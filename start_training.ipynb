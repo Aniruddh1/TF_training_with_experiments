{
 "cells": [
  {
   "cell_type": "code",
   "execution_count": null,
   "metadata": {},
   "outputs": [],
   "source": [
    "import pandas as pd\n",
    "\n",
    "def generate_config():\n",
    "    all_classes = pd.read_csv('images/train_labels.csv')['class'].unique()\n",
    "    test_example_count = len(pd.read_csv('images/test_labels.csv'))-1\n",
    "    print('Done: CSV parsed Unique classes: ',all_classes)\n",
    "\n",
    "    num_steps = 15000\n",
    "\n",
    "    generate_tf_record = ''\n",
    "\n",
    "    f = open(\"training/labelmap.pbtxt\", \"w\")\n",
    "    for idx, value in enumerate(all_classes):\n",
    "\n",
    "        first_class = '''    \n",
    "        if row_label == 'first':\n",
    "            return 1\n",
    "                '''\n",
    "        all_other_class = '''\n",
    "        elif row_label == 'other':\n",
    "            return 2\n",
    "        '''    \n",
    "        label_map = '''\n",
    "    item {\n",
    "      id: 1\n",
    "      name: first\n",
    "    }\n",
    "    '''\n",
    "\n",
    "        if idx == 0:\n",
    "            to_append = first_class.replace('first',value)\n",
    "        else:\n",
    "            to_append = all_other_class.replace('other',value).replace('2',str(idx+1))\n",
    "\n",
    "        generate_tf_record+=to_append\n",
    "\n",
    "        f.write(label_map.replace('first',value).replace('1',str(idx+1)))\n",
    "\n",
    "    f.close()\n",
    "\n",
    "    #print('\\nGenerated string:\\n',generate_tf_record)\n",
    "\n",
    "    with open(\"generate_tfrecord_base.py\") as f:\n",
    "        lines = f.readlines()\n",
    "\n",
    "    with open(\"generate_tfrecord.py\", \"w\") as f:\n",
    "        lines.insert(32, generate_tf_record)\n",
    "        f.write(\"\".join(lines))\n",
    "\n",
    "    print('Done: Edited generate_tfrecord.py')\n",
    "    print('Done: Edited labelmap.pbtxt')\n",
    "\n",
    "    with open(\"training/faster_rcnn_inception_v2_pets_base.config\") as f:\n",
    "        lines = f.readlines()\n",
    "\n",
    "    with open(\"training/faster_rcnn_inception_v2_pets.config\", \"w\") as f:\n",
    "        lines[8] = '    num_classes: {}\\n'.format(str(len(all_classes)))\n",
    "        lines[131] = '  num_examples: {}\\n'.format(str(test_example_count))\n",
    "        lines[115]= '  num_steps: {}\\n'.format(str(num_steps))\n",
    "        f.write(\"\".join(lines))\n",
    "        \n",
    "    print('Done: Edited training/faster_rcnn_inception_v2_pets.config')"
   ]
  },
  {
   "cell_type": "code",
   "execution_count": null,
   "metadata": {},
   "outputs": [],
   "source": [
    "generate_config()"
   ]
  },
  {
   "cell_type": "code",
   "execution_count": null,
   "metadata": {},
   "outputs": [],
   "source": []
  },
  {
   "cell_type": "code",
   "execution_count": null,
   "metadata": {},
   "outputs": [],
   "source": []
  },
  {
   "cell_type": "code",
   "execution_count": 1,
   "metadata": {},
   "outputs": [],
   "source": [
    "from static_files.etc_utils import generate_config, do_xml_to_csv, generate_tfrecords\n",
    "import os"
   ]
  },
  {
   "cell_type": "code",
   "execution_count": 3,
   "metadata": {},
   "outputs": [
    {
     "name": "stdout",
     "output_type": "stream",
     "text": [
      "Done: CSV parsed Unique classes:  ['queen' 'ten' 'ace' 'king' 'nine' 'jack']\n",
      "Done: Edited generate_tfrecord.py\n",
      "Done: Edited labelmap.pbtxt\n",
      "Done: Edited training/faster_rcnn_inception_v2_pets.config\n",
      "Done: TF Records\n"
     ]
    }
   ],
   "source": [
    "base_config_path = '/home/aniruddh/lincode/product/TensorFlow-Object-Detection-API/'\n",
    "to_save_path = '/home/aniruddh/lincode/product/livis-develop_v2/experiments/tensorflow/t2/'\n",
    "dataset_path = '/home/aniruddh/lincode/product/images/'\n",
    "num_steps = 15000\n",
    "\n",
    "os.makedirs(to_save_path, exist_ok=True)\n",
    "\n",
    "do_xml_to_csv(to_save_path, dataset_path)\n",
    "config_path = generate_config(base_config_path, to_save_path, num_steps)\n",
    "generate_tfrecords(base_config_path, to_save_path, dataset_path)\n",
    "\n",
    "train_tf_model(base_config_path, to_save_path, dataset_path, num_steps)"
   ]
  },
  {
   "cell_type": "code",
   "execution_count": null,
   "metadata": {},
   "outputs": [],
   "source": [
    "!ls /home/aniruddh/lincode/product/livis-develop_v2/experiments/tensorflow/ex3_data_path/data/"
   ]
  },
  {
   "cell_type": "code",
   "execution_count": null,
   "metadata": {},
   "outputs": [],
   "source": []
  },
  {
   "cell_type": "code",
   "execution_count": null,
   "metadata": {},
   "outputs": [],
   "source": []
  }
 ],
 "metadata": {
  "kernelspec": {
   "display_name": "Python 2",
   "language": "python",
   "name": "python2"
  },
  "language_info": {
   "codemirror_mode": {
    "name": "ipython",
    "version": 3
   },
   "file_extension": ".py",
   "mimetype": "text/x-python",
   "name": "python",
   "nbconvert_exporter": "python",
   "pygments_lexer": "ipython3",
   "version": "3.7.6"
  }
 },
 "nbformat": 4,
 "nbformat_minor": 4
}
